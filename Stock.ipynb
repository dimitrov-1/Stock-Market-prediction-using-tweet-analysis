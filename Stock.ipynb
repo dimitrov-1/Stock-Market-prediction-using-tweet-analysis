{
 "cells": [
  {
   "cell_type": "code",
   "execution_count": 1,
   "metadata": {},
   "outputs": [
    {
     "name": "stdout",
     "output_type": "stream",
     "text": [
      "Requirement already satisfied: yfinance in c:\\users\\varch\\anaconda3\\lib\\site-packages (0.2.14)\n",
      "Requirement already satisfied: beautifulsoup4>=4.11.1 in c:\\users\\varch\\anaconda3\\lib\\site-packages (from yfinance) (4.11.1)\n",
      "Requirement already satisfied: frozendict>=2.3.4 in c:\\users\\varch\\anaconda3\\lib\\site-packages (from yfinance) (2.3.6)\n",
      "Requirement already satisfied: lxml>=4.9.1 in c:\\users\\varch\\anaconda3\\lib\\site-packages (from yfinance) (4.9.1)\n",
      "Requirement already satisfied: multitasking>=0.0.7 in c:\\users\\varch\\anaconda3\\lib\\site-packages (from yfinance) (0.0.11)\n",
      "Requirement already satisfied: pytz>=2022.5 in c:\\users\\varch\\anaconda3\\lib\\site-packages (from yfinance) (2023.3)\n",
      "Requirement already satisfied: appdirs>=1.4.4 in c:\\users\\varch\\anaconda3\\lib\\site-packages (from yfinance) (1.4.4)\n",
      "Requirement already satisfied: pandas>=1.3.0 in c:\\users\\varch\\anaconda3\\lib\\site-packages (from yfinance) (1.4.4)\n",
      "Requirement already satisfied: cryptography>=3.3.2 in c:\\users\\varch\\anaconda3\\lib\\site-packages (from yfinance) (38.0.1)\n",
      "Requirement already satisfied: requests>=2.26 in c:\\users\\varch\\anaconda3\\lib\\site-packages (from yfinance) (2.28.1)\n",
      "Requirement already satisfied: numpy>=1.16.5 in c:\\users\\varch\\anaconda3\\lib\\site-packages (from yfinance) (1.21.5)\n",
      "Requirement already satisfied: html5lib>=1.1 in c:\\users\\varch\\anaconda3\\lib\\site-packages (from yfinance) (1.1)\n",
      "Requirement already satisfied: soupsieve>1.2 in c:\\users\\varch\\anaconda3\\lib\\site-packages (from beautifulsoup4>=4.11.1->yfinance) (2.3.2.post1)\n",
      "Requirement already satisfied: cffi>=1.12 in c:\\users\\varch\\anaconda3\\lib\\site-packages (from cryptography>=3.3.2->yfinance) (1.15.1)\n",
      "Requirement already satisfied: webencodings in c:\\users\\varch\\anaconda3\\lib\\site-packages (from html5lib>=1.1->yfinance) (0.5.1)\n",
      "Requirement already satisfied: six>=1.9 in c:\\users\\varch\\anaconda3\\lib\\site-packages (from html5lib>=1.1->yfinance) (1.16.0)\n",
      "Requirement already satisfied: python-dateutil>=2.8.1 in c:\\users\\varch\\anaconda3\\lib\\site-packages (from pandas>=1.3.0->yfinance) (2.8.2)\n",
      "Requirement already satisfied: urllib3<1.27,>=1.21.1 in c:\\users\\varch\\anaconda3\\lib\\site-packages (from requests>=2.26->yfinance) (1.26.12)\n",
      "Requirement already satisfied: idna<4,>=2.5 in c:\\users\\varch\\anaconda3\\lib\\site-packages (from requests>=2.26->yfinance) (3.4)\n",
      "Requirement already satisfied: certifi>=2017.4.17 in c:\\users\\varch\\anaconda3\\lib\\site-packages (from requests>=2.26->yfinance) (2022.9.24)\n",
      "Requirement already satisfied: charset-normalizer<3,>=2 in c:\\users\\varch\\anaconda3\\lib\\site-packages (from requests>=2.26->yfinance) (2.0.4)\n",
      "Requirement already satisfied: pycparser in c:\\users\\varch\\anaconda3\\lib\\site-packages (from cffi>=1.12->cryptography>=3.3.2->yfinance) (2.21)\n",
      "Requirement already satisfied: GetOldTweets3 in c:\\users\\varch\\anaconda3\\lib\\site-packages (0.0.11)\n",
      "Requirement already satisfied: lxml>=3.5.0 in c:\\users\\varch\\anaconda3\\lib\\site-packages (from GetOldTweets3) (4.9.1)\n",
      "Requirement already satisfied: pyquery>=1.2.10 in c:\\users\\varch\\anaconda3\\lib\\site-packages (from GetOldTweets3) (2.0.0)\n",
      "Requirement already satisfied: cssselect>=1.2.0 in c:\\users\\varch\\anaconda3\\lib\\site-packages (from pyquery>=1.2.10->GetOldTweets3) (1.2.0)\n",
      "Requirement already satisfied: treeinterpreter in c:\\users\\varch\\anaconda3\\lib\\site-packages (0.2.3)\n"
     ]
    }
   ],
   "source": [
    "!pip install yfinance\n",
    "!pip install GetOldTweets3\n",
    "!pip install treeinterpreter"
   ]
  },
  {
   "cell_type": "code",
   "execution_count": 2,
   "metadata": {},
   "outputs": [],
   "source": [
    "import datetime\n",
    "import GetOldTweets3 as got\n",
    "import yfinance as yf\n",
    "import matplotlib.pyplot as plt\n",
    "import pandas as pd\n",
    "import numpy as np\n",
    "import csv"
   ]
  },
  {
   "cell_type": "code",
   "execution_count": 3,
   "metadata": {},
   "outputs": [],
   "source": [
    "import sys\n",
    "import re\n",
    "import string\n",
    "import json\n",
    "import os"
   ]
  },
  {
   "cell_type": "code",
   "execution_count": 4,
   "metadata": {},
   "outputs": [
    {
     "name": "stderr",
     "output_type": "stream",
     "text": [
      "[nltk_data] Downloading package vader_lexicon to\n",
      "[nltk_data]     C:\\Users\\varch\\AppData\\Roaming\\nltk_data...\n",
      "[nltk_data]   Package vader_lexicon is already up-to-date!\n",
      "[nltk_data] Downloading package wordnet to\n",
      "[nltk_data]     C:\\Users\\varch\\AppData\\Roaming\\nltk_data...\n",
      "[nltk_data]   Package wordnet is already up-to-date!\n",
      "[nltk_data] Downloading package stopwords to\n",
      "[nltk_data]     C:\\Users\\varch\\AppData\\Roaming\\nltk_data...\n",
      "[nltk_data]   Package stopwords is already up-to-date!\n",
      "[nltk_data] Downloading package punkt to\n",
      "[nltk_data]     C:\\Users\\varch\\AppData\\Roaming\\nltk_data...\n",
      "[nltk_data]   Package punkt is already up-to-date!\n"
     ]
    }
   ],
   "source": [
    "import nltk\n",
    "nltk.download('vader_lexicon') #VADER (Valence Aware Dictionary and sEntiment Reasoner) is a lexicon and rule-based sentiment analysis tool that is specifically attuned to sentiments expressed in social media\n",
    "nltk.download('wordnet') #WordNet is a lexical database for the English language\n",
    "nltk.download('stopwords') #Stop words are words that are so common they are basically ignored by typical tokenizer\n",
    "nltk.download('punkt') #This tokenizer divides a text into a list of sentences by using an unsupervised algorithm to build a model for abbreviation words, collocations, and words that start sentences\n",
    "from nltk.corpus import stopwords\n",
    "from nltk.tokenize import word_tokenize\n",
    "\n",
    "from nltk.sentiment.vader import SentimentIntensityAnalyzer\n",
    "from nltk.sentiment.vader import SentimentIntensityAnalyzer\n",
    "import unicodedata\n",
    "sentiment_i_a = SentimentIntensityAnalyzer()\n",
    "\n",
    "from nltk.corpus import subjectivity\n",
    "from nltk.sentiment import SentimentAnalyzer\n",
    "from nltk.sentiment.util import *"
   ]
  },
  {
   "cell_type": "code",
   "execution_count": 5,
   "metadata": {},
   "outputs": [],
   "source": [
    "from sklearn.model_selection import train_test_split\n",
    "from treeinterpreter import treeinterpreter as ti\n",
    "from sklearn.tree import DecisionTreeRegressor\n",
    "from sklearn.ensemble import RandomForestRegressor\n",
    "\n",
    "from sklearn import svm\n",
    "from sklearn.svm import SVR \n",
    "\n",
    "from sklearn.metrics import mean_squared_error\n",
    "from math import sqrt"
   ]
  },
  {
   "cell_type": "code",
   "execution_count": 6,
   "metadata": {},
   "outputs": [],
   "source": [
    "#Get stock data for the given Stock Name\n",
    "def getStockDetails(stockname,start_time,end_time):\n",
    "  company = yf.Ticker(stockname)\n",
    "  company.info.get(\"longName\")\n",
    "  stockData = yf.download(stockname, start=start_time, end=end_time)\n",
    "  print(\"\\n Stock Data Obtained \")\n",
    "  print(stockData.head())\n",
    "  print(\"\\n\")\n",
    "  plt.title('Time series chart of Closing stocks for ' + company.info.get(\"longName\"))\n",
    "  plt.plot(stockData[\"Close\"])\n",
    "  plt.show()\n",
    "  print(\"\\n\")\n",
    "  stockData.to_csv('stockData_' + stockname + '.csv')\n",
    "     "
   ]
  },
  {
   "cell_type": "code",
   "execution_count": null,
   "metadata": {},
   "outputs": [],
   "source": []
  }
 ],
 "metadata": {
  "kernelspec": {
   "display_name": "base",
   "language": "python",
   "name": "python3"
  },
  "language_info": {
   "codemirror_mode": {
    "name": "ipython",
    "version": 3
   },
   "file_extension": ".py",
   "mimetype": "text/x-python",
   "name": "python",
   "nbconvert_exporter": "python",
   "pygments_lexer": "ipython3",
   "version": "3.9.15"
  },
  "orig_nbformat": 4,
  "vscode": {
   "interpreter": {
    "hash": "6ad519faab7639f7e44b0efacb50e9e7b288705a0ccd9af68e02ebc046a52d68"
   }
  }
 },
 "nbformat": 4,
 "nbformat_minor": 2
}
